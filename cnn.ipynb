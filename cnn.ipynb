{
 "cells": [
  {
   "cell_type": "markdown",
   "metadata": {},
   "source": [
    "# CNN model for Enhancer-Promoter Classification\n",
    "\n",
    "In this notebook, we will develop a convolutional neural network model to train two enhancer-promoter datasets."
   ]
  },
  {
   "cell_type": "markdown",
   "metadata": {},
   "source": [
    "### 1 - Packages\n",
    "Let's first import all the packages that we will need for this notebook.\n",
    "\n",
    "- numpy is the fundamental package for scientific computing with Python.\n",
    "- tensorflow is a high-level framework in Python, and keras is an even higher-level framework and provides additional absstractions \n",
    "- matplotlib is a library to plot graphs in Python.\n",
    "- sklearn is a library that helps us split the dataset and evaluate the model effectively."
   ]
  },
  {
   "cell_type": "code",
   "execution_count": 3,
   "metadata": {},
   "outputs": [],
   "source": [
    "import numpy as np\n",
    "import tensorflow.keras as ks\n",
    "import matplotlib.pyplot as plt\n",
    "import pandas as pd\n",
    "\n",
    "from datetime import datetime\n",
    "from sklearn.model_selection import StratifiedKFold\n",
    "from sklearn.metrics import roc_curve, auc\n",
    "\n",
    "from util import fasta_data_loader, create_fasta_files_from_csv"
   ]
  },
  {
   "cell_type": "markdown",
   "metadata": {},
   "source": [
    "### 2 - Load enhancer-promoter dataset"
   ]
  },
  {
   "cell_type": "code",
   "execution_count": 5,
   "metadata": {},
   "outputs": [],
   "source": [
    "DATASET = 'GM12878'\n",
    "\n",
    "if DATASET == 'US_UU':\n",
    "    train, test = fasta_data_loader(pro_fa='data/US_UU/K562_US.fa', enh_fa='data/US_UU/K562_UU.fa')\n",
    "elif DATASET == 'CAGE':\n",
    "    train, test = fasta_data_loader(pro_fa='data/CAGE/fantom_promoters_600.fa',\n",
    "                                    enh_fa='data/CAGE/fantom_enhancers_600.fa')\n",
    "else:\n",
    "    create_fasta_files_from_csv(DATASET)\n",
    "    train, test = fasta_data_loader(pro_fa='data/{}/enhancers.fa'.format(DATASET),\n",
    "                                    enh_fa='data/{}/promoters.fa'.format(DATASET))\n",
    "\n",
    "# Reshape the data to (n_samples, n_seqs, n_channels)\n",
    "X_train,Y_train = train[0].transpose([0,2,1]),train[1]\n",
    "X_test,Y_test = test[0].transpose([0,2,1]),test[1]"
   ]
  },
  {
   "cell_type": "markdown",
   "metadata": {},
   "source": [
    "Check the training data and testing data"
   ]
  },
  {
   "cell_type": "code",
   "execution_count": 7,
   "metadata": {},
   "outputs": [
    {
     "name": "stdout",
     "output_type": "stream",
     "text": [
      "number of training examples = 5740\n",
      "number of test examples = 638\n",
      "X_train shape: (5740, 200, 4)\n",
      "Y_train shape: (5740, 1)\n",
      "X_test shape: (638, 200, 4)\n",
      "Y_test shape: (638, 1)\n"
     ]
    }
   ],
   "source": [
    "print(\"number of training examples = \" + str(X_train.shape[0]))\n",
    "print (\"number of test examples = \" + str(X_test.shape[0]))\n",
    "print (\"X_train shape: \" + str(X_train.shape))\n",
    "print (\"Y_train shape: \" + str(Y_train.shape))\n",
    "print (\"X_test shape: \" + str(X_test.shape))\n",
    "print (\"Y_test shape: \" + str(Y_test.shape))"
   ]
  },
  {
   "cell_type": "markdown",
   "metadata": {},
   "source": [
    "### 3 - The structure of the model"
   ]
  },
  {
   "cell_type": "code",
   "execution_count": 8,
   "metadata": {},
   "outputs": [],
   "source": [
    "def cnn_model(params):\n",
    "    \n",
    "    model = ks.Sequential()\n",
    "    \n",
    "    model.add(ks.layers.Conv1D(\n",
    "                input_shape = (X_train.shape[1], X_train.shape[2]),\n",
    "                filters = 90,\n",
    "                kernel_size = params['f1_size'],\n",
    "                padding = 'same',\n",
    "                activation = ks.activations.relu))\n",
    "    \n",
    "    model.add(ks.layers.Dropout(0.5, input_shape = (X_train.shape[1], 30)))\n",
    "    model.add(ks.layers.MaxPool1D(\n",
    "                pool_size = 10,\n",
    "                strides= 10))\n",
    "\n",
    "    model.add(ks.layers.Conv1D(\n",
    "                filters = 128,\n",
    "                kernel_size= 5,\n",
    "                padding= 'same',\n",
    "                activation= ks.activations.relu))\n",
    "\n",
    "    model.add(ks.layers.Dropout(0.5, input_shape = (X_train.shape[1], 128)))\n",
    "\n",
    "    model.add(ks.layers.MaxPool1D(\n",
    "                pool_size= 10,\n",
    "                strides= 10))\n",
    "\n",
    "    model.add(ks.layers.Flatten())\n",
    "\n",
    "    model.add(ks.layers.Dense(\n",
    "                units= 512,\n",
    "                activation=ks.activations.relu))\n",
    "\n",
    "    model.add(ks.layers.Dropout(0.5, input_shape = (512,)))\n",
    "    \n",
    "    model.add(ks.layers.Dense(\n",
    "                units= 1,\n",
    "                activation=ks.activations.sigmoid,\n",
    "                name = 'visualized_layer'))\n",
    "\n",
    "    model.compile(\n",
    "                optimizer=ks.optimizers.Adam(learning_rate= 0.0003,decay=1e-6),\n",
    "                loss = ks.losses.BinaryCrossentropy(),\n",
    "                metrics= [ks.metrics.AUC()])\n",
    "    \n",
    "    return model\n"
   ]
  },
  {
   "cell_type": "markdown",
   "metadata": {},
   "source": [
    "Test the model structure"
   ]
  },
  {
   "cell_type": "code",
   "execution_count": 9,
   "metadata": {},
   "outputs": [
    {
     "name": "stdout",
     "output_type": "stream",
     "text": [
      "Model: \"sequential\"\n",
      "_________________________________________________________________\n",
      "Layer (type)                 Output Shape              Param #   \n",
      "=================================================================\n",
      "conv1d (Conv1D)              (None, 200, 90)           3690      \n",
      "_________________________________________________________________\n",
      "dropout (Dropout)            (None, 200, 90)           0         \n",
      "_________________________________________________________________\n",
      "max_pooling1d (MaxPooling1D) (None, 20, 90)            0         \n",
      "_________________________________________________________________\n",
      "conv1d_1 (Conv1D)            (None, 20, 128)           57728     \n",
      "_________________________________________________________________\n",
      "dropout_1 (Dropout)          (None, 20, 128)           0         \n",
      "_________________________________________________________________\n",
      "max_pooling1d_1 (MaxPooling1 (None, 2, 128)            0         \n",
      "_________________________________________________________________\n",
      "flatten (Flatten)            (None, 256)               0         \n",
      "_________________________________________________________________\n",
      "dense (Dense)                (None, 512)               131584    \n",
      "_________________________________________________________________\n",
      "dropout_2 (Dropout)          (None, 512)               0         \n",
      "_________________________________________________________________\n",
      "visualized_layer (Dense)     (None, 1)                 513       \n",
      "=================================================================\n",
      "Total params: 193,515\n",
      "Trainable params: 193,515\n",
      "Non-trainable params: 0\n",
      "_________________________________________________________________\n"
     ]
    }
   ],
   "source": [
    "params = {'f1_size': 10}\n",
    "test_model = cnn_model(params)\n",
    "test_model.summary()"
   ]
  },
  {
   "cell_type": "markdown",
   "metadata": {},
   "source": [
    "### 4 - Model evaluation"
   ]
  },
  {
   "cell_type": "code",
   "execution_count": 10,
   "metadata": {},
   "outputs": [],
   "source": [
    "def cross_validation(params):\n",
    "    \n",
    "    kfold = StratifiedKFold(n_splits=5, shuffle=True, random_state=7)\n",
    "    total_auc = []\n",
    "    model = cnn_model(params)\n",
    "    \n",
    "    for train, test in kfold.split(X_train, Y_train):      \n",
    "        history = model.fit(x=X_train[train],\n",
    "                            y=Y_train[train],\n",
    "                            validation_data = (X_train[test], Y_train[test]),\n",
    "                            batch_size= 30,\n",
    "                            epochs=40,\n",
    "                            verbose=0)\n",
    "        \n",
    "        for key in history.history.keys():\n",
    "            if key.startswith('auc_'):\n",
    "                train_auc = history.history[key][-1]\n",
    "            if key.startswith('val_auc_'):\n",
    "                valid_auc = history.history[key][-1]\n",
    "        \n",
    "        test_loss, test_auc = model.evaluate(X_test, Y_test, verbose = 0)\n",
    "        mean_auc = (train_auc + valid_auc + test_auc)/3\n",
    "        total_auc.append(mean_auc)\n",
    "    \n",
    "    return model, total_auc\n"
   ]
  },
  {
   "cell_type": "markdown",
   "metadata": {},
   "source": [
    "To check whether the filter size in the first layer influences the results."
   ]
  },
  {
   "cell_type": "code",
   "execution_count": 11,
   "metadata": {},
   "outputs": [],
   "source": [
    "# filter_size = [9, 19, 29]\n",
    "\n",
    "# file = open('results/n_filters_{}.txt'.format(DATASET), 'w')\n",
    "# file.write('f1_size' + ',' + 'mean_aucs' + 'std_aucs' + '\\n')\n",
    "\n",
    "# for f1_size in filter_size:\n",
    "#     param_filters = {'f1_size': f1_size}\n",
    "#     model, auc = cross_validation(param_filters)\n",
    "#     mean_aucs = np.mean(auc)\n",
    "#     std_aucs = np.std(auc)\n",
    "#     print(str(f1_size) + ',' + str(mean_aucs) +','+ str(std_aucs))\n",
    "#     file.write(str(f1_size) + ',' + str(mean_aucs) + ',' + str(std_aucs) + '\\n')\n",
    "\n",
    "# file.close()\n",
    "# print('finish!')"
   ]
  },
  {
   "cell_type": "markdown",
   "metadata": {},
   "source": [
    "All these models share similar performances"
   ]
  },
  {
   "cell_type": "code",
   "execution_count": 12,
   "metadata": {},
   "outputs": [],
   "source": [
    "def best_model():\n",
    "    \n",
    "    params = {'f1_size': 19}\n",
    "    model = cnn_model(params)\n",
    "    kfold = StratifiedKFold(n_splits=5, shuffle=True, random_state=7)\n",
    "    \n",
    "    i = 0\n",
    "    tprs = []\n",
    "    auc_total = []\n",
    "    tprs_pred_total = []\n",
    "    tprs_test_total = []\n",
    "\n",
    "    mean_fpr = np.linspace(0, 1, 100)\n",
    "    \n",
    "    for train, test in kfold.split(X_train, Y_train):      \n",
    "        model.fit(\n",
    "                x=X_train[train],\n",
    "                y=Y_train[train],\n",
    "                batch_size= 30,\n",
    "                epochs= 40,\n",
    "                verbose=0)\n",
    "        \n",
    "        y_pred = model.predict(X_train[test]).ravel()\n",
    "        fpr_pred, tpr_pred, _ = roc_curve(Y_train[test], y_pred)\n",
    "        tprs_pred = np.interp(mean_fpr, fpr_pred, tpr_pred)\n",
    "        tprs_pred[0] = 0.0\n",
    "        tprs_pred_total.append(tprs_pred)\n",
    "        \n",
    "        y_test_pred = model.predict(X_test).ravel()\n",
    "        test_fpr,test_tpr, _ = roc_curve(Y_test, y_test_pred)\n",
    "        tprs_test = np.interp(mean_fpr, test_fpr, test_tpr)\n",
    "        tprs_test[0] = 0.0\n",
    "        tprs_test_total.append(tprs_test)\n",
    "        \n",
    "        mean_tprs = (tprs_pred + tprs_test)/2\n",
    "        tprs.append(mean_tprs)\n",
    "#        mean_auc = auc(mean_fpr, mean_tprs)\n",
    "#        auc_total.append(mean_auc)\n",
    "#        print(mean_auc)\n",
    "    \n",
    "    tprs_pred_mean = np.mean(tprs_pred_total, axis = 0)\n",
    "    tprs_test_mean = np.mean(tprs_test_total, axis = 0)\n",
    "    \n",
    "    tprs.append(tprs_pred_mean)\n",
    "    tprs.append(tprs_test_mean)\n",
    "    \n",
    "    return model, tprs "
   ]
  },
  {
   "cell_type": "code",
   "execution_count": 13,
   "metadata": {},
   "outputs": [],
   "source": [
    "cnn_model, tprs = best_model()"
   ]
  },
  {
   "cell_type": "code",
   "execution_count": 14,
   "metadata": {},
   "outputs": [],
   "source": [
    "def plot_roc_curve(tprs):\n",
    "    \n",
    "    mean_tprs, mean_pred_tprs, mean_test_tprs = tprs[0:4], tprs[5], tprs[6]\n",
    "    mean_fpr = np.linspace(0, 1, 100)\n",
    "    \n",
    "    mean_tpr = np.mean(mean_tprs, axis=0)\n",
    "    mean_tpr[-1] = 1.0\n",
    "    \n",
    "    mean_auc = auc(mean_fpr,mean_tpr)\n",
    "    mean_pred_auc = auc(mean_fpr, mean_pred_tprs)\n",
    "    mean_test_auc = auc(mean_fpr, mean_test_tprs)\n",
    "    \n",
    "    plt.figure(1)\n",
    "    plt.plot([-0.05, 1], [-0.05, 1], 'k--')\n",
    "    plt.plot(mean_fpr,mean_tpr,color='b',label='Mean ROC (AUC=%0.2f)' % mean_auc,lw=2,alpha=.8)\n",
    "    plt.plot(mean_fpr,mean_pred_tprs,color='r',label='Mean Train ROC (AUC=%0.2f)' % mean_pred_auc,lw=2,alpha=.8)\n",
    "    plt.plot(mean_fpr,mean_test_tprs,color='y',label='Mean Test ROC (AUC=%0.2f)' % mean_test_auc,lw=2,alpha=.8)\n",
    "    \n",
    "    plt.xlabel('False Positive Rate')\n",
    "    plt.ylabel('True Positive Rate')\n",
    "    plt.title('ROC curve of CNN-10(90) model for {}'.format(DATASET))\n",
    "    plt.legend(loc='lower right')\n",
    "    plt.savefig('results/{}_roc.png'.format(DATASET))\n",
    "    plt.show()"
   ]
  },
  {
   "cell_type": "code",
   "execution_count": 15,
   "metadata": {},
   "outputs": [
    {
     "data": {
      "image/png": "[encoded data removed]",
      "text/plain": [
       "<Figure size 432x288 with 1 Axes>"
      ]
     },
     "metadata": {
      "needs_background": "light"
     },
     "output_type": "display_data"
    }
   ],
   "source": [
    "plot_roc_curve(tprs)"
   ]
  }
 ],
 "metadata": {
  "kernelspec": {
   "display_name": "Python 3",
   "language": "python",
   "name": "python3"
  },
  "language_info": {
   "codemirror_mode": {
    "name": "ipython",
    "version": 3
   },
   "file_extension": ".py",
   "mimetype": "text/x-python",
   "name": "python",
   "nbconvert_exporter": "python",
   "pygments_lexer": "ipython3",
   "version": "3.7.6"
  }
 },
 "nbformat": 4,
 "nbformat_minor": 5
}
